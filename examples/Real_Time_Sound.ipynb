{
 "cells": [
  {
   "cell_type": "markdown",
   "id": "eea17c92",
   "metadata": {},
   "source": [
    "# Audio tiempo  Real en Julia y NLD\n",
    "\n",
    "La idea es implementar un integrador de ODEs que produzca audio en tiempo real con control interactivo de parámetros en Julia.\n",
    "\n",
    "Tomamos como base: \n",
    "\n",
    "https://github.com/JuliaAudio/PortAudio.jl\n",
    "\n",
    "https://github.com/JuliaAudio/SampledSignals.jl\n",
    "\n",
    "y algunos ejemplos de:\n",
    "\n",
    "https://github.com/rob-luke/AuditoryStimuli.jl\n",
    "\n",
    "https://www.theoj.org/joss-papers/joss.03613/10.21105.joss.03613.pdf\n"
   ]
  },
  {
   "cell_type": "code",
   "execution_count": 8,
   "id": "43cb7349",
   "metadata": {
    "ExecuteTime": {
     "end_time": "2022-06-03T20:33:31.985000-03:00",
     "start_time": "2022-06-03T23:33:31.976Z"
    }
   },
   "outputs": [],
   "source": [
    "using Printf, DSP, Unitful"
   ]
  },
  {
   "cell_type": "code",
   "execution_count": 7,
   "id": "4733db5c",
   "metadata": {
    "ExecuteTime": {
     "end_time": "2022-06-03T20:33:25.108000-03:00",
     "start_time": "2022-06-03T23:33:24.996Z"
    }
   },
   "outputs": [],
   "source": [
    "using Pkg; Pkg.activate(\"../../../NonLinearDynamicsCourse\")"
   ]
  },
  {
   "cell_type": "code",
   "execution_count": 9,
   "id": "b20e6e07",
   "metadata": {
    "ExecuteTime": {
     "end_time": "2022-06-03T20:33:38.216000-03:00",
     "start_time": "2022-06-03T23:33:33.971Z"
    }
   },
   "outputs": [],
   "source": [
    "using PortAudio"
   ]
  },
  {
   "cell_type": "markdown",
   "id": "dfae6ec8",
   "metadata": {},
   "source": [
    "Portaudio nos da acceso a la plataforma de audio. \n",
    "- PortAudio.devices() nos da la lista de dispositivos (muchos con APIs repetidas en windows) podemos indexar el array de devices\n",
    "- PortAudioStream(devicename, inchans, outchans) abre un stream de audio para el dispositivo (sink para las salidas y source para las entradas)\n"
   ]
  },
  {
   "cell_type": "code",
   "execution_count": 10,
   "id": "ec187ead",
   "metadata": {
    "ExecuteTime": {
     "end_time": "2022-06-03T20:34:43.859000-03:00",
     "start_time": "2022-06-03T23:34:42.613Z"
    }
   },
   "outputs": [
    {
     "data": {
      "text/plain": [
       "26-element Vector{PortAudio.PortAudioDevice}:\n",
       " \"Microsoft Sound Mapper - Input\" 2→0\n",
       " \"Microphone (Logitech BRIO)\" 2→0\n",
       " \"Microphone (Realtek(R) Audio)\" 2→0\n",
       " \"Microsoft Sound Mapper - Output\" 0→2\n",
       " \"Speakers (Realtek(R) Audio)\" 0→8\n",
       " \"Nx Headphones (Waves Virtual Au\" 0→8\n",
       " \"Realtek Digital Output (Realtek\" 0→2\n",
       " \"Primary Sound Capture Driver\" 2→0\n",
       " \"Microphone (Logitech BRIO)\" 2→0\n",
       " \"Microphone (Realtek(R) Audio)\" 2→0\n",
       " \"Primary Sound Driver\" 0→2\n",
       " \"Speakers (Realtek(R) Audio)\" 0→8\n",
       " \"Nx Headphones (Waves Virtual Audio Device)\" 0→8\n",
       " \"Realtek Digital Output (Realtek(R) Audio)\" 0→2\n",
       " \"Nx Headphones (Waves Virtual Audio Device)\" 0→8\n",
       " \"Speakers (Realtek(R) Audio)\" 0→2\n",
       " \"Realtek Digital Output (Realtek(R) Audio)\" 0→2\n",
       " \"Microphone (Realtek(R) Audio)\" 2→0\n",
       " \"Microphone (Logitech BRIO)\" 2→0\n",
       " \"Speakers (Realtek HD Audio output)\" 0→8\n",
       " \"Stereo Mix (Realtek HD Audio Stereo input)\" 2→0\n",
       " \"Line In (Realtek HD Audio Line input)\" 2→0\n",
       " \"Microphone (Realtek HD Audio Mic input)\" 2→0\n",
       " \"SPDIF Out (Realtek HDA SPDIF Out)\" 0→2\n",
       " \"Headphones (Waves Virtual Speaker)\" 0→8\n",
       " \"Microphone (Logitech BRIO)\" 2→0"
      ]
     },
     "execution_count": 10,
     "metadata": {},
     "output_type": "execute_result"
    }
   ],
   "source": [
    "sdev = PortAudio.devices()"
   ]
  },
  {
   "cell_type": "code",
   "execution_count": 11,
   "id": "d7bd0d9c",
   "metadata": {
    "ExecuteTime": {
     "end_time": "2022-06-03T20:34:51.015000-03:00",
     "start_time": "2022-06-03T23:34:50.436Z"
    }
   },
   "outputs": [
    {
     "data": {
      "text/plain": [
       "PortAudioStream{Float32}\n",
       "  Samplerate: 44100.0Hz\n",
       "  2 channel sink: \"Speakers (Realtek(R) Audio)\""
      ]
     },
     "execution_count": 11,
     "metadata": {},
     "output_type": "execute_result"
    }
   ],
   "source": [
    "soundcard = PortAudioStream(sdev[5],0,2)"
   ]
  },
  {
   "cell_type": "code",
   "execution_count": 12,
   "id": "3af56ad1",
   "metadata": {
    "ExecuteTime": {
     "end_time": "2022-06-03T20:34:55.735000-03:00",
     "start_time": "2022-06-03T23:34:55.391Z"
    }
   },
   "outputs": [],
   "source": [
    "using SampledSignals"
   ]
  },
  {
   "cell_type": "markdown",
   "id": "4677f3a8",
   "metadata": {},
   "source": [
    "**SampledSignals** tiene el abstract type **SampleSource** que representa una fuente de samples (por ejemplo la función que integra las ODEs). \n",
    "La idea es implementar un subtipo que realice la integracion. Debe tener los metodos\n",
    "- samplerate\n",
    "- nchannels\n",
    "- eltype\n",
    "- unsafe_read!\n",
    "\n",
    "**unsafe_read!** lee los samples de la fuente asumiendo que la cantidad de canales el sampling rate y el element type son acordes. Esta funcion es llamada por read! (o read) de forma externa una vez que verifica el acuerdo.\n"
   ]
  },
  {
   "cell_type": "code",
   "execution_count": 13,
   "id": "a8840fcd",
   "metadata": {
    "ExecuteTime": {
     "end_time": "2022-06-03T20:35:03.689000-03:00",
     "start_time": "2022-06-03T23:35:03.188Z"
    }
   },
   "outputs": [
    {
     "data": {
      "text/plain": [
       "unsafe_read! (generic function with 1 method)"
      ]
     },
     "execution_count": 13,
     "metadata": {},
     "output_type": "execute_result"
    }
   ],
   "source": [
    "include(\"ToneSource.jl\")"
   ]
  },
  {
   "cell_type": "code",
   "execution_count": 16,
   "id": "bc7f8ceb",
   "metadata": {
    "ExecuteTime": {
     "end_time": "2022-06-03T20:35:29.996000-03:00",
     "start_time": "2022-06-03T23:35:24.344Z"
    }
   },
   "outputs": [],
   "source": [
    "import Pkg; Pkg.add(\"Pipe\")"
   ]
  },
  {
   "cell_type": "code",
   "execution_count": 17,
   "id": "db72258a",
   "metadata": {
    "ExecuteTime": {
     "end_time": "2022-06-03T20:41:09.476000-03:00",
     "start_time": "2022-06-03T23:41:09.467Z"
    }
   },
   "outputs": [],
   "source": [
    "using Pipe: @pipe"
   ]
  },
  {
   "cell_type": "code",
   "execution_count": 18,
   "id": "e4bfc726",
   "metadata": {
    "ExecuteTime": {
     "end_time": "2022-06-03T20:41:12.747000-03:00",
     "start_time": "2022-06-03T23:41:12.078Z"
    }
   },
   "outputs": [
    {
     "data": {
      "text/html": [
       "# 4 methods for type constructor:<ul><li> ToneSource(eltype, samplerate::<b>Union{Quantity{T, 𝐓^-1, U}, Level{L, S, Quantity{T, 𝐓^-1, U}} where {L, S}} where {T, U}</b>, freq::<b>Number</b>) in Main at <a href=\"file://C:/Users/Camilo/Google Drive/Julia/Audio/ToneSource.jl\" target=\"_blank\">C:\\Users\\Camilo\\Google Drive\\Julia\\Audio\\ToneSource.jl:10</a></li> <li> ToneSource(eltype, samplerate::<b>Union{Quantity{T, 𝐓^-1, U}, Level{L, S, Quantity{T, 𝐓^-1, U}} where {L, S}} where {T, U}</b>, freq::<b>Number</b>, phase::<b>Number</b>) in Main at <a href=\"file://C:/Users/Camilo/Google Drive/Julia/Audio/ToneSource.jl\" target=\"_blank\">C:\\Users\\Camilo\\Google Drive\\Julia\\Audio\\ToneSource.jl:10</a></li> <li> ToneSource(eltype, samplerate::<b>Number</b>, freq::<b>Number</b>) in Main at <a href=\"file://C:/Users/Camilo/Google Drive/Julia/Audio/ToneSource.jl\" target=\"_blank\">C:\\Users\\Camilo\\Google Drive\\Julia\\Audio\\ToneSource.jl:6</a></li> <li> ToneSource(eltype, samplerate::<b>Number</b>, freq::<b>Number</b>, phase::<b>Number</b>) in Main at <a href=\"file://C:/Users/Camilo/Google Drive/Julia/Audio/ToneSource.jl\" target=\"_blank\">C:\\Users\\Camilo\\Google Drive\\Julia\\Audio\\ToneSource.jl:6</a></li> </ul>"
      ],
      "text/plain": [
       "# 4 methods for type constructor:\n",
       "[1] ToneSource(eltype, samplerate::Union{Quantity{T, 𝐓^-1, U}, Level{L, S, Quantity{T, 𝐓^-1, U}} where {L, S}} where {T, U}, freq::Number) in Main at C:\\Users\\Camilo\\Google Drive\\Julia\\Audio\\ToneSource.jl:10\n",
       "[2] ToneSource(eltype, samplerate::Union{Quantity{T, 𝐓^-1, U}, Level{L, S, Quantity{T, 𝐓^-1, U}} where {L, S}} where {T, U}, freq::Number, phase::Number) in Main at C:\\Users\\Camilo\\Google Drive\\Julia\\Audio\\ToneSource.jl:10\n",
       "[3] ToneSource(eltype, samplerate::Number, freq::Number) in Main at C:\\Users\\Camilo\\Google Drive\\Julia\\Audio\\ToneSource.jl:6\n",
       "[4] ToneSource(eltype, samplerate::Number, freq::Number, phase::Number) in Main at C:\\Users\\Camilo\\Google Drive\\Julia\\Audio\\ToneSource.jl:6"
      ]
     },
     "execution_count": 18,
     "metadata": {},
     "output_type": "execute_result"
    }
   ],
   "source": [
    "methods(ToneSource)"
   ]
  },
  {
   "cell_type": "code",
   "execution_count": 19,
   "id": "2575e331",
   "metadata": {
    "ExecuteTime": {
     "end_time": "2022-06-03T20:43:38.343000-03:00",
     "start_time": "2022-06-03T23:43:38.275Z"
    }
   },
   "outputs": [
    {
     "ename": "LoadError",
     "evalue": "UndefVarError: NoiseSource not defined",
     "output_type": "error",
     "traceback": [
      "UndefVarError: NoiseSource not defined",
      "",
      "Stacktrace:",
      " [1] top-level scope",
      "   @ In[19]:1",
      " [2] eval",
      "   @ .\\boot.jl:373 [inlined]",
      " [3] include_string(mapexpr::typeof(REPL.softscope), mod::Module, code::String, filename::String)",
      "   @ Base .\\loading.jl:1196"
     ]
    }
   ],
   "source": [
    "methods(NoiseSource)"
   ]
  },
  {
   "cell_type": "code",
   "execution_count": 20,
   "id": "974d9a0e",
   "metadata": {
    "ExecuteTime": {
     "end_time": "2022-06-03T20:43:43.776000-03:00",
     "start_time": "2022-06-03T23:43:43.690Z"
    }
   },
   "outputs": [
    {
     "data": {
      "text/plain": [
       "samplerate (generic function with 1 method)"
      ]
     },
     "execution_count": 20,
     "metadata": {},
     "output_type": "execute_result"
    }
   ],
   "source": [
    "samplerate(source::ToneSource) = source.samplerate"
   ]
  },
  {
   "cell_type": "code",
   "execution_count": 21,
   "id": "a0e310b7",
   "metadata": {
    "ExecuteTime": {
     "end_time": "2022-06-03T20:43:45.208000-03:00",
     "start_time": "2022-06-03T23:43:45.198Z"
    }
   },
   "outputs": [
    {
     "ename": "LoadError",
     "evalue": "UndefVarError: SinusoidSource not defined",
     "output_type": "error",
     "traceback": [
      "UndefVarError: SinusoidSource not defined",
      "",
      "Stacktrace:",
      " [1] top-level scope",
      "   @ In[21]:1",
      " [2] eval",
      "   @ .\\boot.jl:373 [inlined]",
      " [3] include_string(mapexpr::typeof(REPL.softscope), mod::Module, code::String, filename::String)",
      "   @ Base .\\loading.jl:1196"
     ]
    }
   ],
   "source": [
    "dump(SinusoidSource)"
   ]
  },
  {
   "cell_type": "code",
   "execution_count": 26,
   "id": "288731c4",
   "metadata": {
    "ExecuteTime": {
     "end_time": "2022-01-14T21:04:53.804000-03:00",
     "start_time": "2022-01-15T00:04:53.801Z"
    }
   },
   "outputs": [
    {
     "name": "stdout",
     "output_type": "stream",
     "text": [
      "UnionAll\n",
      "  var: TypeVar\n",
      "    name: Symbol T\n",
      "    lb: Union{}\n",
      "    ub: Any\n",
      "  body: ToneSource{T} <: SampleSource\n",
      "    samplerate::Float64\n",
      "    freq::Float64\n",
      "    phase::Float64\n"
     ]
    }
   ],
   "source": [
    "dump(ToneSource)"
   ]
  },
  {
   "cell_type": "code",
   "execution_count": 36,
   "id": "88913f8e",
   "metadata": {
    "ExecuteTime": {
     "end_time": "2022-01-14T21:12:51.449000-03:00",
     "start_time": "2022-01-15T00:12:51.446Z"
    }
   },
   "outputs": [
    {
     "data": {
      "text/html": [
       "# 3 methods for generic function <b>nchannels</b>:<ul><li> nchannels(source::<b>ToneSource</b>) in Main at <a href=\"file://C:/Users/Camilo/Google Drive/Julia/Audio/ToneSource.jl\" target=\"_blank\">C:\\Users\\Camilo\\Google Drive\\Julia\\Audio\\ToneSource.jl:14</a></li> <li> nchannels(source::<b>NoiseSource</b>) in Main at <a href=\"file://C:/Users/Camilo/Google Drive/Julia/Audio/NoiseSource.jl\" target=\"_blank\">C:\\Users\\Camilo\\Google Drive\\Julia\\Audio\\NoiseSource.jl:16</a></li> <li> nchannels(source::<b>NoiseSource2</b>) in Main at In[33]:16</li> </ul>"
      ],
      "text/plain": [
       "# 3 methods for generic function \"nchannels\":\n",
       "[1] nchannels(source::ToneSource) in Main at C:\\Users\\Camilo\\Google Drive\\Julia\\Audio\\ToneSource.jl:14\n",
       "[2] nchannels(source::NoiseSource) in Main at C:\\Users\\Camilo\\Google Drive\\Julia\\Audio\\NoiseSource.jl:16\n",
       "[3] nchannels(source::NoiseSource2) in Main at In[33]:16"
      ]
     },
     "execution_count": 36,
     "metadata": {},
     "output_type": "execute_result"
    }
   ],
   "source": [
    "methods(nchannels)"
   ]
  },
  {
   "cell_type": "code",
   "execution_count": 23,
   "id": "c317f90d",
   "metadata": {
    "ExecuteTime": {
     "end_time": "2022-06-03T20:47:46.488000-03:00",
     "start_time": "2022-06-03T23:47:46.478Z"
    }
   },
   "outputs": [
    {
     "ename": "LoadError",
     "evalue": "UndefVarError: NoiseSource not defined",
     "output_type": "error",
     "traceback": [
      "UndefVarError: NoiseSource not defined",
      "",
      "Stacktrace:",
      " [1] top-level scope",
      "   @ In[23]:1",
      " [2] eval",
      "   @ .\\boot.jl:373 [inlined]",
      " [3] include_string(mapexpr::typeof(REPL.softscope), mod::Module, code::String, filename::String)",
      "   @ Base .\\loading.jl:1196"
     ]
    }
   ],
   "source": [
    "tone_source = NoiseSource(Float64, 44100, 2, 0.3)"
   ]
  },
  {
   "cell_type": "code",
   "execution_count": 22,
   "id": "f561bb70",
   "metadata": {
    "ExecuteTime": {
     "end_time": "2022-06-03T20:47:42.811000-03:00",
     "start_time": "2022-06-03T23:47:42.797Z"
    }
   },
   "outputs": [
    {
     "data": {
      "text/plain": [
       "unsafe_read! (generic function with 2 methods)"
      ]
     },
     "execution_count": 22,
     "metadata": {},
     "output_type": "execute_result"
    }
   ],
   "source": [
    "mutable struct NoiseSource2{T} <: SampleSource\n",
    "    samplerate::Float64\n",
    "    nchannels::Int64\n",
    "    std::Float64\n",
    "\n",
    "    function NoiseSource2(eltype, samplerate::Number, nchannels::Int, std::Number=1)\n",
    "        new{eltype}(samplerate, nchannels, std)\n",
    "    end\n",
    "    function NoiseSource2(eltype, samplerate::Unitful.Frequency, nchannels::Int, std::Number=1)\n",
    "        samplerate = ustrip(uconvert(u\"Hz\", samplerate))\n",
    "        NoiseSource2(eltype, samplerate, nchannels, std)\n",
    "    end\n",
    "end\n",
    "\n",
    "Base.eltype(::NoiseSource2{T}) where T = T\n",
    "nchannels(source::NoiseSource2) = source.nchannels\n",
    "samplerate(source::NoiseSource2) = source.samplerate\n",
    "\n",
    "function unsafe_read!(source::NoiseSource2, buf::Array, frameoffset, framecount)\n",
    "    buf[1+frameoffset:framecount+frameoffset, 1:source.nchannels] = source.std .* randn(framecount, source.nchannels)\n",
    "    framecount\n",
    "end"
   ]
  },
  {
   "cell_type": "code",
   "execution_count": 53,
   "id": "3eca402f",
   "metadata": {
    "ExecuteTime": {
     "end_time": "2022-01-15T11:15:35.908000-03:00",
     "start_time": "2022-01-15T14:15:35.906Z"
    }
   },
   "outputs": [],
   "source": [
    "using AuditoryStimuli"
   ]
  },
  {
   "cell_type": "code",
   "execution_count": 56,
   "id": "c4dde7ff",
   "metadata": {
    "ExecuteTime": {
     "end_time": "2022-01-15T11:17:04.876000-03:00",
     "start_time": "2022-01-15T14:17:04.876Z"
    }
   },
   "outputs": [
    {
     "data": {
      "text/plain": [
       "Float64"
      ]
     },
     "execution_count": 56,
     "metadata": {},
     "output_type": "execute_result"
    }
   ],
   "source": [
    "eltype(tone_source)"
   ]
  },
  {
   "cell_type": "code",
   "execution_count": 59,
   "id": "ba4080ab",
   "metadata": {
    "ExecuteTime": {
     "end_time": "2022-01-15T13:20:41.017000-03:00",
     "start_time": "2022-01-15T16:20:40.981Z"
    }
   },
   "outputs": [
    {
     "data": {
      "text/plain": [
       "Any"
      ]
     },
     "execution_count": 59,
     "metadata": {},
     "output_type": "execute_result"
    }
   ],
   "source": [
    "eltype(SinSource)"
   ]
  },
  {
   "cell_type": "code",
   "execution_count": 58,
   "id": "aa7d9c3f",
   "metadata": {
    "ExecuteTime": {
     "end_time": "2022-01-15T11:17:26.619000-03:00",
     "start_time": "2022-01-15T14:17:26.615Z"
    }
   },
   "outputs": [
    {
     "data": {
      "text/html": [
       "# 3 methods for generic function <b>samplerate</b>:<ul><li> samplerate(source::<b>NoiseSource</b>) in Main at <a href=\"file://C:/Users/Camilo/Google Drive/Julia/Audio/NoiseSource.jl\" target=\"_blank\">C:\\Users\\Camilo\\Google Drive\\Julia\\Audio\\NoiseSource.jl:17</a></li> <li> samplerate(source::<b>NoiseSource2</b>) in Main at In[33]:17</li> <li> samplerate(source::<b>ToneSource</b>) in Main at <a href=\"file://C:/Users/Camilo/Google Drive/Julia/Audio/ToneSource.jl\" target=\"_blank\">C:\\Users\\Camilo\\Google Drive\\Julia\\Audio\\ToneSource.jl:15</a></li> </ul>"
      ],
      "text/plain": [
       "# 3 methods for generic function \"samplerate\":\n",
       "[1] samplerate(source::NoiseSource) in Main at C:\\Users\\Camilo\\Google Drive\\Julia\\Audio\\NoiseSource.jl:17\n",
       "[2] samplerate(source::NoiseSource2) in Main at In[33]:17\n",
       "[3] samplerate(source::ToneSource) in Main at C:\\Users\\Camilo\\Google Drive\\Julia\\Audio\\ToneSource.jl:15"
      ]
     },
     "execution_count": 58,
     "metadata": {},
     "output_type": "execute_result"
    }
   ],
   "source": [
    "methods(samplerate)"
   ]
  },
  {
   "cell_type": "code",
   "execution_count": 24,
   "id": "47f99fb8",
   "metadata": {
    "ExecuteTime": {
     "end_time": "2022-06-03T20:48:07.398000-03:00",
     "start_time": "2022-06-03T23:48:07.019Z"
    }
   },
   "outputs": [
    {
     "data": {
      "text/plain": [
       "SinSource{Float64}(44100.0, [0.02849517146113191, 0.04416751576475446], [0.0, 0.0])"
      ]
     },
     "execution_count": 24,
     "metadata": {},
     "output_type": "execute_result"
    }
   ],
   "source": [
    "tone_source = SinSource(Float64, 44100, [200, 310])"
   ]
  },
  {
   "cell_type": "code",
   "execution_count": 25,
   "id": "b5248389",
   "metadata": {
    "ExecuteTime": {
     "end_time": "2022-06-03T20:48:15.628000-03:00",
     "start_time": "2022-06-03T23:48:10.468Z"
    }
   },
   "outputs": [],
   "source": [
    "for n = 1:30\n",
    "    @pipe read(tone_source, 0.1u\"s\") |> write(soundcard, _)\n",
    "end    "
   ]
  },
  {
   "cell_type": "code",
   "execution_count": 26,
   "id": "16afec06",
   "metadata": {
    "ExecuteTime": {
     "end_time": "2022-06-03T20:48:20.236000-03:00",
     "start_time": "2022-06-03T23:48:19.857Z"
    }
   },
   "outputs": [
    {
     "data": {
      "text/plain": [
       "Task (runnable) @0x000000000b862100"
      ]
     },
     "execution_count": 26,
     "metadata": {},
     "output_type": "execute_result"
    }
   ],
   "source": [
    "# Instansiate the audio stream in its own thread\n",
    "noise_stream = Threads.@spawn begin\n",
    "    while true\n",
    "        @pipe read(tone_source, 1u\"s\") |> write(soundcard, _)\n",
    "    end\n",
    "end"
   ]
  },
  {
   "cell_type": "code",
   "execution_count": null,
   "id": "528dbc6f",
   "metadata": {
    "ExecuteTime": {
     "end_time": "2022-01-14T20:46:17.917000-03:00",
     "start_time": "2022-01-14T23:46:17.913Z"
    }
   },
   "outputs": [],
   "source": [
    "methods(samplerate)"
   ]
  },
  {
   "cell_type": "code",
   "execution_count": null,
   "id": "ba31e0b7",
   "metadata": {
    "ExecuteTime": {
     "end_time": "2022-01-14T14:28:42.876000-03:00",
     "start_time": "2022-01-14T17:28:42.825Z"
    }
   },
   "outputs": [],
   "source": [
    "soundcard = get_soundcard_stream(\"Speakers\")"
   ]
  },
  {
   "cell_type": "code",
   "execution_count": null,
   "id": "ae853005",
   "metadata": {
    "ExecuteTime": {
     "end_time": "2022-01-14T15:03:07.879000-03:00",
     "start_time": "2022-01-14T18:03:07.877Z"
    }
   },
   "outputs": [],
   "source": [
    "noise_source = NoiseSource(Float64, 44100, 2, 0.2)\n",
    "tone_source = SinusoidSource(Float64, 44100, 200)\n",
    "amplify = Amplification(0.1, 0.01, 0.005)"
   ]
  },
  {
   "cell_type": "code",
   "execution_count": null,
   "id": "1d46a564",
   "metadata": {
    "ExecuteTime": {
     "end_time": "2022-01-14T15:03:09.951000-03:00",
     "start_time": "2022-01-14T18:03:09.942Z"
    }
   },
   "outputs": [],
   "source": [
    "# Instansiate the audio stream in its own thread\n",
    "noise_stream = Threads.@spawn begin\n",
    "    while amplify.current > 0.001\n",
    "        @pipe read(tone_source, 1u\"s\") |> modify(amplify, _) |> write(soundcard, _)\n",
    "    end\n",
    "end"
   ]
  },
  {
   "cell_type": "code",
   "execution_count": null,
   "id": "b7d6f189",
   "metadata": {
    "ExecuteTime": {
     "end_time": "2022-01-14T15:10:51.340000-03:00",
     "start_time": "2022-01-14T18:10:51.171Z"
    }
   },
   "outputs": [],
   "source": [
    "setproperty!(amplify, :target, 0)"
   ]
  },
  {
   "cell_type": "code",
   "execution_count": null,
   "id": "d5e0af4d",
   "metadata": {
    "ExecuteTime": {
     "end_time": "2022-01-14T15:10:38.701000-03:00",
     "start_time": "2022-01-14T18:10:38.452Z"
    }
   },
   "outputs": [],
   "source": [
    "tone_source.freqs = [0.021]"
   ]
  },
  {
   "cell_type": "code",
   "execution_count": 30,
   "id": "abca09ce",
   "metadata": {
    "ExecuteTime": {
     "end_time": "2022-06-03T20:49:45.416000-03:00",
     "start_time": "2022-06-03T23:49:38.190Z"
    }
   },
   "outputs": [
    {
     "data": {
      "text/plain": [
       "Task (runnable) @0x000000000b862100"
      ]
     },
     "execution_count": 30,
     "metadata": {},
     "output_type": "execute_result"
    }
   ],
   "source": [
    "noise_stream"
   ]
  },
  {
   "cell_type": "code",
   "execution_count": 31,
   "id": "06aa34fc",
   "metadata": {
    "ExecuteTime": {
     "end_time": "2022-06-03T20:49:45.837000-03:00",
     "start_time": "2022-06-03T23:49:42.100Z"
    }
   },
   "outputs": [
    {
     "data": {
      "text/plain": [
       "0"
      ]
     },
     "execution_count": 31,
     "metadata": {},
     "output_type": "execute_result"
    }
   ],
   "source": [
    "close(soundcard)"
   ]
  },
  {
   "cell_type": "code",
   "execution_count": null,
   "id": "5100f44d",
   "metadata": {
    "ExecuteTime": {
     "end_time": "2022-01-14T14:14:50.572000-03:00",
     "start_time": "2022-01-14T17:14:50.556Z"
    }
   },
   "outputs": [],
   "source": [
    "noise_stream"
   ]
  },
  {
   "cell_type": "code",
   "execution_count": 32,
   "id": "c6b8247d",
   "metadata": {
    "ExecuteTime": {
     "end_time": "2022-06-03T23:42:29.284000-03:00",
     "start_time": "2022-06-04T02:42:29.277Z"
    }
   },
   "outputs": [],
   "source": [
    "# Real time ODE integration"
   ]
  },
  {
   "cell_type": "code",
   "execution_count": 33,
   "id": "db5dc864",
   "metadata": {
    "ExecuteTime": {
     "end_time": "2022-06-03T23:44:42.565000-03:00",
     "start_time": "2022-06-04T02:42:36.797Z"
    }
   },
   "outputs": [
    {
     "ename": "LoadError",
     "evalue": "Failed to precompile DifferentialEquations [0c46a032-eb83-5123-abaf-570d42b7fbaa] to C:\\Users\\Camilo\\.julia\\compiled\\v1.7\\DifferentialEquations\\jl_93FD.tmp.",
     "output_type": "error",
     "traceback": [
      "Failed to precompile DifferentialEquations [0c46a032-eb83-5123-abaf-570d42b7fbaa] to C:\\Users\\Camilo\\.julia\\compiled\\v1.7\\DifferentialEquations\\jl_93FD.tmp.",
      "",
      "Stacktrace:",
      " [1] error(s::String)",
      "   @ Base .\\error.jl:33",
      " [2] compilecache(pkg::Base.PkgId, path::String, internal_stderr::IO, internal_stdout::IO, ignore_loaded_modules::Bool)",
      "   @ Base .\\loading.jl:1466",
      " [3] compilecache(pkg::Base.PkgId, path::String)",
      "   @ Base .\\loading.jl:1410",
      " [4] _require(pkg::Base.PkgId)",
      "   @ Base .\\loading.jl:1120",
      " [5] require(uuidkey::Base.PkgId)",
      "   @ Base .\\loading.jl:1013",
      " [6] require(into::Module, mod::Symbol)",
      "   @ Base .\\loading.jl:997",
      " [7] eval",
      "   @ .\\boot.jl:373 [inlined]",
      " [8] include_string(mapexpr::typeof(REPL.softscope), mod::Module, code::String, filename::String)",
      "   @ Base .\\loading.jl:1196"
     ]
    }
   ],
   "source": [
    "using DifferentialEquations"
   ]
  },
  {
   "cell_type": "code",
   "execution_count": null,
   "id": "ec42cef1",
   "metadata": {},
   "outputs": [],
   "source": []
  }
 ],
 "metadata": {
  "@webio": {
   "lastCommId": null,
   "lastKernelId": null
  },
  "kernelspec": {
   "display_name": "Julia 1.7.3",
   "language": "julia",
   "name": "julia-1.7"
  },
  "language_info": {
   "file_extension": ".jl",
   "mimetype": "application/julia",
   "name": "julia",
   "version": "1.7.3"
  },
  "toc": {
   "base_numbering": 1,
   "nav_menu": {},
   "number_sections": true,
   "sideBar": true,
   "skip_h1_title": false,
   "title_cell": "Table of Contents",
   "title_sidebar": "Contents",
   "toc_cell": false,
   "toc_position": {},
   "toc_section_display": true,
   "toc_window_display": false
  },
  "varInspector": {
   "cols": {
    "lenName": 16,
    "lenType": 16,
    "lenVar": 40
   },
   "kernels_config": {
    "python": {
     "delete_cmd_postfix": "",
     "delete_cmd_prefix": "del ",
     "library": "var_list.py",
     "varRefreshCmd": "print(var_dic_list())"
    },
    "r": {
     "delete_cmd_postfix": ") ",
     "delete_cmd_prefix": "rm(",
     "library": "var_list.r",
     "varRefreshCmd": "cat(var_dic_list()) "
    }
   },
   "types_to_exclude": [
    "module",
    "function",
    "builtin_function_or_method",
    "instance",
    "_Feature"
   ],
   "window_display": true
  }
 },
 "nbformat": 4,
 "nbformat_minor": 5
}
