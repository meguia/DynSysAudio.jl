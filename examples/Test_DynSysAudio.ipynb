{
 "cells": [
  {
   "cell_type": "code",
   "execution_count": 3,
   "id": "69eefbbe",
   "metadata": {
    "ExecuteTime": {
     "end_time": "2022-06-01T20:50:33.840000-03:00",
     "start_time": "2022-06-01T23:50:23.648Z"
    }
   },
   "outputs": [],
   "source": [
    "using PortAudio"
   ]
  },
  {
   "cell_type": "code",
   "execution_count": 2,
   "id": "54a7e98b",
   "metadata": {
    "ExecuteTime": {
     "end_time": "2022-06-01T20:50:21.423000-03:00",
     "start_time": "2022-06-01T23:50:21.087Z"
    }
   },
   "outputs": [],
   "source": [
    "using Pkg; Pkg.activate(\"../../../DynSysAudio\")"
   ]
  },
  {
   "cell_type": "code",
   "execution_count": 4,
   "id": "639b538c",
   "metadata": {
    "ExecuteTime": {
     "end_time": "2022-06-01T20:50:59.615000-03:00",
     "start_time": "2022-06-01T23:50:59.012Z"
    }
   },
   "outputs": [
    {
     "data": {
      "text/plain": [
       "get_soundcard_matching (generic function with 1 method)"
      ]
     },
     "execution_count": 4,
     "metadata": {},
     "output_type": "execute_result"
    }
   ],
   "source": [
    "function get_soundcard_matching(;output::String=\"Speaker\",host::String=\"MME\",nchannels::Int=2)\n",
    "    a = PortAudio.devices()\n",
    "    for d in a\n",
    "        if occursin(output, d.name) && occursin(host, d.host_api)\n",
    "            name = d.name\n",
    "            println(\"Using device: $name\")\n",
    "            return PortAudioStream(d, 0, nchannels)\n",
    "        end   \n",
    "    end\n",
    "    print(\"no match\")\n",
    "end"
   ]
  },
  {
   "cell_type": "code",
   "execution_count": 16,
   "id": "00c7978c",
   "metadata": {
    "ExecuteTime": {
     "end_time": "2022-06-01T20:57:26.557000-03:00",
     "start_time": "2022-06-01T23:57:26.121Z"
    }
   },
   "outputs": [
    {
     "data": {
      "text/plain": [
       "26-element Vector{PortAudio.PortAudioDevice}:\n",
       " \"Microsoft Sound Mapper - Input\" 2→0\n",
       " \"Microphone (Logitech BRIO)\" 2→0\n",
       " \"Microphone (Realtek(R) Audio)\" 2→0\n",
       " \"Microsoft Sound Mapper - Output\" 0→2\n",
       " \"Speakers (Realtek(R) Audio)\" 0→8\n",
       " \"Nx Headphones (Waves Virtual Au\" 0→8\n",
       " \"Realtek Digital Output (Realtek\" 0→2\n",
       " \"Primary Sound Capture Driver\" 2→0\n",
       " \"Microphone (Logitech BRIO)\" 2→0\n",
       " \"Microphone (Realtek(R) Audio)\" 2→0\n",
       " \"Primary Sound Driver\" 0→2\n",
       " \"Speakers (Realtek(R) Audio)\" 0→8\n",
       " \"Nx Headphones (Waves Virtual Audio Device)\" 0→8\n",
       " \"Realtek Digital Output (Realtek(R) Audio)\" 0→2\n",
       " \"Nx Headphones (Waves Virtual Audio Device)\" 0→8\n",
       " \"Speakers (Realtek(R) Audio)\" 0→2\n",
       " \"Realtek Digital Output (Realtek(R) Audio)\" 0→2\n",
       " \"Microphone (Realtek(R) Audio)\" 2→0\n",
       " \"Microphone (Logitech BRIO)\" 2→0\n",
       " \"Speakers (Realtek HD Audio output)\" 0→8\n",
       " \"Stereo Mix (Realtek HD Audio Stereo input)\" 2→0\n",
       " \"Line In (Realtek HD Audio Line input)\" 2→0\n",
       " \"Microphone (Realtek HD Audio Mic input)\" 2→0\n",
       " \"SPDIF Out (Realtek HDA SPDIF Out)\" 0→2\n",
       " \"Headphones (Waves Virtual Speaker)\" 0→8\n",
       " \"Microphone (Logitech BRIO)\" 2→0"
      ]
     },
     "execution_count": 16,
     "metadata": {},
     "output_type": "execute_result"
    }
   ],
   "source": [
    "sdev = PortAudio.devices()"
   ]
  },
  {
   "cell_type": "code",
   "execution_count": 13,
   "id": "29cba214",
   "metadata": {
    "ExecuteTime": {
     "end_time": "2022-06-01T20:56:16.907000-03:00",
     "start_time": "2022-06-01T23:56:16.791Z"
    }
   },
   "outputs": [
    {
     "name": "stdout",
     "output_type": "stream",
     "text": [
      "Using device: Speakers (Realtek(R) Audio)\n"
     ]
    },
    {
     "data": {
      "text/plain": [
       "PortAudioStream{Float32}\n",
       "  Samplerate: 44100.0Hz\n",
       "  2 channel sink: \"Speakers (Realtek(R) Audio)\""
      ]
     },
     "execution_count": 13,
     "metadata": {},
     "output_type": "execute_result"
    }
   ],
   "source": [
    "soundcard = get_soundcard_matching(nchannels=2)"
   ]
  },
  {
   "cell_type": "code",
   "execution_count": 6,
   "id": "b96a6c57",
   "metadata": {
    "ExecuteTime": {
     "end_time": "2022-06-01T20:51:04.366000-03:00",
     "start_time": "2022-06-01T23:51:04.028Z"
    }
   },
   "outputs": [],
   "source": [
    "using SampledSignals, Unitful"
   ]
  },
  {
   "cell_type": "code",
   "execution_count": 8,
   "id": "01759bc5",
   "metadata": {
    "ExecuteTime": {
     "end_time": "2022-06-01T20:55:16.366000-03:00",
     "start_time": "2022-06-01T23:51:43.291Z"
    }
   },
   "outputs": [],
   "source": [
    "using DynSysAudio "
   ]
  },
  {
   "cell_type": "code",
   "execution_count": 9,
   "id": "84a60dc5",
   "metadata": {
    "ExecuteTime": {
     "end_time": "2022-06-01T20:55:16.524000-03:00",
     "start_time": "2022-06-01T23:51:56.025Z"
    }
   },
   "outputs": [],
   "source": [
    "using Pipe: @pipe"
   ]
  },
  {
   "cell_type": "code",
   "execution_count": 10,
   "id": "b3378951",
   "metadata": {
    "ExecuteTime": {
     "end_time": "2022-06-01T20:55:16.984000-03:00",
     "start_time": "2022-06-01T23:51:58.544Z"
    }
   },
   "outputs": [
    {
     "data": {
      "text/plain": [
       "SinusoidSource{Float64}(44100.0, [0.02849517146113191, 0.04416751576475446], [0.0, 0.0])"
      ]
     },
     "execution_count": 10,
     "metadata": {},
     "output_type": "execute_result"
    }
   ],
   "source": [
    "tone_source = SinusoidSource(Float64, 44100, [200, 310])"
   ]
  },
  {
   "cell_type": "code",
   "execution_count": 11,
   "id": "ba6edaf6",
   "metadata": {
    "ExecuteTime": {
     "end_time": "2022-06-01T20:55:18.177000-03:00",
     "start_time": "2022-06-01T23:51:59.203Z"
    }
   },
   "outputs": [
    {
     "data": {
      "text/plain": [
       "2-element Vector{Float64}:\n",
       " 0.02849517146113191\n",
       " 0.04416751576475446"
      ]
     },
     "execution_count": 11,
     "metadata": {},
     "output_type": "execute_result"
    }
   ],
   "source": [
    "tone_source.freqs"
   ]
  },
  {
   "cell_type": "code",
   "execution_count": 15,
   "id": "5f92f908",
   "metadata": {
    "ExecuteTime": {
     "end_time": "2022-06-01T20:56:31.505000-03:00",
     "start_time": "2022-06-01T23:56:31.495Z"
    }
   },
   "outputs": [
    {
     "data": {
      "text/plain": [
       "Task (runnable) @0x000000008c44cf90"
      ]
     },
     "execution_count": 15,
     "metadata": {},
     "output_type": "execute_result"
    }
   ],
   "source": [
    "noise_stream = Threads.@spawn begin\n",
    "    while tone_source.freqs[1] > 0.001\n",
    "        @pipe read(tone_source, 0.1u\"s\") |> write(soundcard, _)\n",
    "    end\n",
    "end"
   ]
  },
  {
   "cell_type": "code",
   "execution_count": 17,
   "id": "5d4c22fc",
   "metadata": {
    "ExecuteTime": {
     "end_time": "2022-06-01T20:58:00.542000-03:00",
     "start_time": "2022-06-01T23:58:00.533Z"
    }
   },
   "outputs": [
    {
     "data": {
      "text/plain": [
       "300"
      ]
     },
     "execution_count": 17,
     "metadata": {},
     "output_type": "execute_result"
    }
   ],
   "source": [
    "tone_source.freqs[1] = 300"
   ]
  },
  {
   "cell_type": "code",
   "execution_count": null,
   "id": "d3f63ca5",
   "metadata": {
    "ExecuteTime": {
     "end_time": "2022-01-17T15:33:34.131000-03:00",
     "start_time": "2022-01-17T18:33:34.002Z"
    }
   },
   "outputs": [],
   "source": [
    "s0 = read(tone_source, 0.5u\"s\")"
   ]
  },
  {
   "cell_type": "code",
   "execution_count": null,
   "id": "9389ba59",
   "metadata": {
    "ExecuteTime": {
     "end_time": "2022-01-16T18:40:29.043000-03:00",
     "start_time": "2022-01-16T21:40:14.659Z"
    }
   },
   "outputs": [],
   "source": [
    "using Plots\n",
    "plot(domain(ss), ss)"
   ]
  },
  {
   "cell_type": "code",
   "execution_count": null,
   "id": "61f20b48",
   "metadata": {
    "ExecuteTime": {
     "end_time": "2022-01-17T15:35:55.914000-03:00",
     "start_time": "2022-01-17T18:35:55.643Z"
    }
   },
   "outputs": [],
   "source": [
    "noise_source = NoiseSource(Float64, 44100, 2, 0.2)"
   ]
  },
  {
   "cell_type": "code",
   "execution_count": null,
   "id": "00168613",
   "metadata": {
    "ExecuteTime": {
     "end_time": "2022-01-17T12:17:04.235000-03:00",
     "start_time": "2022-01-17T15:17:03.410Z"
    }
   },
   "outputs": [],
   "source": [
    "function vdp!(du,u,p,t)\n",
    "    du[1] = u[2]\n",
    "    du[2] = p[1]*(1.0-u[1]*u[1])*u[2]-u[1]\n",
    "end\t"
   ]
  },
  {
   "cell_type": "code",
   "execution_count": 13,
   "id": "9f85a6c1",
   "metadata": {
    "ExecuteTime": {
     "end_time": "2022-01-17T15:55:07.764000-03:00",
     "start_time": "2022-01-17T18:55:07.654Z"
    }
   },
   "outputs": [
    {
     "data": {
      "text/plain": [
       "halvorsen! (generic function with 1 method)"
      ]
     },
     "execution_count": 13,
     "metadata": {},
     "output_type": "execute_result"
    }
   ],
   "source": [
    "function halvorsen!(du,u,p,t)\n",
    "    du[1] = -p[1]*u[1]-4.0*u[2]-4.0*u[3]-u[2]*u[2]\n",
    "    du[2] = -p[1]*u[2]-4.0*u[3]-4.0*u[1]-u[3]*u[3]\n",
    "    du[3] = -p[1]*u[3]-4.0*u[1]-4.0*u[2]-u[1]*u[1]\n",
    "end    "
   ]
  },
  {
   "cell_type": "code",
   "execution_count": 44,
   "id": "e5568fca",
   "metadata": {
    "ExecuteTime": {
     "end_time": "2022-01-17T15:59:23.805000-03:00",
     "start_time": "2022-01-17T18:59:23.683Z"
    }
   },
   "outputs": [
    {
     "data": {
      "text/plain": [
       "ODESource{Float64}(44100.0, 3, 0.0, 0.0045351473922902496, 0.1, SciMLBase.ODEProblem{Vector{Float64}, Tuple{Float64, Float64}, true, Vector{Float64}, SciMLBase.ODEFunction{true, typeof(halvorsen!), LinearAlgebra.UniformScaling{Bool}, Nothing, Nothing, Nothing, Nothing, Nothing, Nothing, Nothing, Nothing, Nothing, Nothing, Nothing, Nothing, typeof(SciMLBase.DEFAULT_OBSERVED), Nothing}, Base.Iterators.Pairs{Union{}, Union{}, Tuple{}, NamedTuple{(), Tuple{}}}, SciMLBase.StandardODEProblem}(SciMLBase.ODEFunction{true, typeof(halvorsen!), LinearAlgebra.UniformScaling{Bool}, Nothing, Nothing, Nothing, Nothing, Nothing, Nothing, Nothing, Nothing, Nothing, Nothing, Nothing, Nothing, typeof(SciMLBase.DEFAULT_OBSERVED), Nothing}(halvorsen!, LinearAlgebra.UniformScaling{Bool}(true), nothing, nothing, nothing, nothing, nothing, nothing, nothing, nothing, nothing, nothing, nothing, nothing, SciMLBase.DEFAULT_OBSERVED, nothing), [1.0, 0.1, 0.1], (0.0, 100.0), [1.4], Base.Iterators.Pairs{Union{}, Union{}, Tuple{}, NamedTuple{(), Tuple{}}}(), SciMLBase.StandardODEProblem()), t: 0.0\n",
       "u: [1.0, 0.1, 0.1])"
      ]
     },
     "execution_count": 44,
     "metadata": {},
     "output_type": "execute_result"
    }
   ],
   "source": [
    "ode_source2 = ODESource(Float64, halvorsen!, 44100, 200, [1.0, 0.1,0.1],[1.4])"
   ]
  },
  {
   "cell_type": "code",
   "execution_count": null,
   "id": "743881c7",
   "metadata": {
    "ExecuteTime": {
     "end_time": "2022-01-17T15:32:29.093000-03:00",
     "start_time": "2022-01-17T18:32:29.058Z"
    }
   },
   "outputs": [],
   "source": [
    "ss = read(ode_source, 1.0u\"s\")"
   ]
  },
  {
   "cell_type": "code",
   "execution_count": null,
   "id": "6cf14b9c",
   "metadata": {
    "ExecuteTime": {
     "end_time": "2022-01-17T15:28:53.930000-03:00",
     "start_time": "2022-01-17T18:28:53.650Z"
    }
   },
   "outputs": [],
   "source": [
    "using Plots\n",
    "plot(domain(ss), ss)"
   ]
  },
  {
   "cell_type": "code",
   "execution_count": 37,
   "id": "f57eac53",
   "metadata": {
    "ExecuteTime": {
     "end_time": "2022-01-17T15:58:14.096000-03:00",
     "start_time": "2022-01-17T18:58:14.080Z"
    }
   },
   "outputs": [
    {
     "data": {
      "text/plain": [
       "Task (runnable) @0x000000009cd57d00"
      ]
     },
     "execution_count": 37,
     "metadata": {},
     "output_type": "execute_result"
    }
   ],
   "source": [
    "ode_stream = Threads.@spawn begin\n",
    "    while ode_source.integrator.p[1] > 0\n",
    "        @pipe read(ode_source, 0.5u\"s\") |> write(soundcard, _)\n",
    "    end\n",
    "end"
   ]
  },
  {
   "cell_type": "code",
   "execution_count": null,
   "id": "c43082d2",
   "metadata": {
    "ExecuteTime": {
     "start_time": "2022-01-17T19:01:28.462Z"
    }
   },
   "outputs": [],
   "source": [
    "ode_source.integrator.p[1] = 1.4"
   ]
  },
  {
   "cell_type": "code",
   "execution_count": 49,
   "id": "1b8957dd",
   "metadata": {
    "ExecuteTime": {
     "end_time": "2022-01-17T16:00:53.472000-03:00",
     "start_time": "2022-01-17T19:00:53.300Z"
    }
   },
   "outputs": [
    {
     "data": {
      "text/plain": [
       "0.0020408163265306124"
      ]
     },
     "execution_count": 49,
     "metadata": {},
     "output_type": "execute_result"
    }
   ],
   "source": [
    "ode_source.dt = 90/44100.0"
   ]
  },
  {
   "cell_type": "code",
   "execution_count": 45,
   "id": "ea60d1c2",
   "metadata": {
    "ExecuteTime": {
     "end_time": "2022-01-17T15:59:30.203000-03:00",
     "start_time": "2022-01-17T18:59:29.940Z"
    }
   },
   "outputs": [
    {
     "data": {
      "text/plain": [
       "Task (runnable) @0x000000000e4b01a0"
      ]
     },
     "execution_count": 45,
     "metadata": {},
     "output_type": "execute_result"
    }
   ],
   "source": [
    "ode_stream2 = Threads.@spawn begin\n",
    "    while ode_source2.integrator.p[1] > 0\n",
    "        @pipe read(ode_source2, 0.5u\"s\") |> write(soundcard, _)\n",
    "    end\n",
    "end"
   ]
  },
  {
   "cell_type": "code",
   "execution_count": 46,
   "id": "c9a7172a",
   "metadata": {
    "ExecuteTime": {
     "end_time": "2022-01-17T16:00:06.452000-03:00",
     "start_time": "2022-01-17T19:00:06.283Z"
    }
   },
   "outputs": [
    {
     "data": {
      "text/plain": [
       "0"
      ]
     },
     "execution_count": 46,
     "metadata": {},
     "output_type": "execute_result"
    }
   ],
   "source": [
    "ode_source2.integrator.p[1] = 0"
   ]
  },
  {
   "cell_type": "code",
   "execution_count": null,
   "id": "25e12ee6",
   "metadata": {
    "ExecuteTime": {
     "end_time": "2022-01-17T15:01:14.001000-03:00",
     "start_time": "2022-01-17T18:01:13.999Z"
    }
   },
   "outputs": [],
   "source": [
    "using DifferentialEquations"
   ]
  },
  {
   "cell_type": "code",
   "execution_count": null,
   "id": "0cc4cfd2",
   "metadata": {
    "ExecuteTime": {
     "end_time": "2022-01-17T15:08:24.913000-03:00",
     "start_time": "2022-01-17T18:08:24.911Z"
    }
   },
   "outputs": [],
   "source": [
    "problem = ODEProblem(halvorsen!,[1.0, 0.1,0.1],(0.0,600),[1.4])"
   ]
  },
  {
   "cell_type": "code",
   "execution_count": null,
   "id": "d19f6af2",
   "metadata": {
    "ExecuteTime": {
     "end_time": "2022-01-17T15:18:23.579000-03:00",
     "start_time": "2022-01-17T18:18:23.577Z"
    }
   },
   "outputs": [],
   "source": [
    "integrator = init(problem,Tsit5())"
   ]
  },
  {
   "cell_type": "code",
   "execution_count": null,
   "id": "f3aca447",
   "metadata": {
    "ExecuteTime": {
     "end_time": "2022-01-17T15:18:24.440000-03:00",
     "start_time": "2022-01-17T18:18:24.420Z"
    }
   },
   "outputs": [],
   "source": [
    "seq = TimeChoiceIterator(integrator,0.0:200/44100.0:200.0)"
   ]
  },
  {
   "cell_type": "code",
   "execution_count": null,
   "id": "22c30ed1",
   "metadata": {
    "ExecuteTime": {
     "end_time": "2022-01-17T15:15:05.432000-03:00",
     "start_time": "2022-01-17T18:15:05.386Z"
    }
   },
   "outputs": [],
   "source": [
    "X = reduce(vcat,[[u[1] u[2] u[3]] for (u,t) in seq])"
   ]
  },
  {
   "cell_type": "code",
   "execution_count": null,
   "id": "2e690b02",
   "metadata": {
    "ExecuteTime": {
     "end_time": "2022-01-17T15:10:25.593000-03:00",
     "start_time": "2022-01-17T18:10:25.513Z"
    }
   },
   "outputs": [],
   "source": [
    "plot(X[1,:],X[2,:])"
   ]
  },
  {
   "cell_type": "code",
   "execution_count": null,
   "id": "067de105",
   "metadata": {
    "ExecuteTime": {
     "end_time": "2022-01-17T15:10:31.030000-03:00",
     "start_time": "2022-01-17T18:10:31.011Z"
    }
   },
   "outputs": [],
   "source": [
    "seq"
   ]
  },
  {
   "cell_type": "code",
   "execution_count": null,
   "id": "fdecdf07",
   "metadata": {
    "ExecuteTime": {
     "end_time": "2022-01-17T15:18:29.882000-03:00",
     "start_time": "2022-01-17T18:18:29.839Z"
    }
   },
   "outputs": [],
   "source": [
    "buf = reduce(vcat,[u[:]' for (u,t) in seq])"
   ]
  },
  {
   "cell_type": "code",
   "execution_count": null,
   "id": "1f98662a",
   "metadata": {
    "ExecuteTime": {
     "end_time": "2022-01-17T15:16:13.552000-03:00",
     "start_time": "2022-01-17T18:16:13.534Z"
    }
   },
   "outputs": [],
   "source": [
    "seq"
   ]
  },
  {
   "cell_type": "code",
   "execution_count": null,
   "id": "a0cddd16",
   "metadata": {},
   "outputs": [],
   "source": []
  }
 ],
 "metadata": {
  "@webio": {
   "lastCommId": null,
   "lastKernelId": null
  },
  "kernelspec": {
   "display_name": "Julia 1.7.3",
   "language": "julia",
   "name": "julia-1.7"
  },
  "language_info": {
   "file_extension": ".jl",
   "mimetype": "application/julia",
   "name": "julia",
   "version": "1.7.3"
  },
  "toc": {
   "base_numbering": 1,
   "nav_menu": {},
   "number_sections": true,
   "sideBar": true,
   "skip_h1_title": false,
   "title_cell": "Table of Contents",
   "title_sidebar": "Contents",
   "toc_cell": false,
   "toc_position": {},
   "toc_section_display": true,
   "toc_window_display": false
  },
  "varInspector": {
   "cols": {
    "lenName": 16,
    "lenType": 16,
    "lenVar": 40
   },
   "kernels_config": {
    "python": {
     "delete_cmd_postfix": "",
     "delete_cmd_prefix": "del ",
     "library": "var_list.py",
     "varRefreshCmd": "print(var_dic_list())"
    },
    "r": {
     "delete_cmd_postfix": ") ",
     "delete_cmd_prefix": "rm(",
     "library": "var_list.r",
     "varRefreshCmd": "cat(var_dic_list()) "
    }
   },
   "types_to_exclude": [
    "module",
    "function",
    "builtin_function_or_method",
    "instance",
    "_Feature"
   ],
   "window_display": true
  }
 },
 "nbformat": 4,
 "nbformat_minor": 5
}
